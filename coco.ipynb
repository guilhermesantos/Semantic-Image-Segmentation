{
 "cells": [
  {
   "cell_type": "code",
   "execution_count": 1,
   "metadata": {},
   "outputs": [],
   "source": [
    "from pycocotools.coco import COCO\n",
    "import numpy as np\n",
    "import skimage.io as io\n",
    "import matplotlib.pyplot as plt\n",
    "import pylab\n",
    "import pickle\n",
    "import os\n",
    "import imageio\n",
    "import scipy.sparse"
   ]
  },
  {
   "cell_type": "markdown",
   "metadata": {},
   "source": [
    "## Setup\n",
    "In order to proceed with dataset creation, you should download COCO 2014 Train/Val annotations (241mb).  \n",
    "The instructions are for Ubuntu and require wget and unzip. It works on bash Windows as well.  \n",
    "wget --directory-prefix=downloads http://images.cocodataset.org/annotations/annotations_trainval2014.zip  \n",
    "mkdir -p dataset/annotations  \n",
    "unzip downloads/annotations_trainval2014.zip -d dataset/annotations/"
   ]
  },
  {
   "cell_type": "code",
   "execution_count": 2,
   "metadata": {},
   "outputs": [
    {
     "name": "stdout",
     "output_type": "stream",
     "text": [
      "loading annotations into memory...\n",
      "Done (t=30.67s)\n",
      "creating index...\n",
      "index created!\n"
     ]
    }
   ],
   "source": [
    "# initialize COCO api to handle instance annotations\n",
    "dataType='train2014'\n",
    "annFile='downloads/dataset/annotations/instances_{}.json'.format(dataType)\n",
    "coco=COCO(annFile)"
   ]
  },
  {
   "cell_type": "markdown",
   "metadata": {},
   "source": [
    "## Dataset creation\n",
    "COCO 2014 train annotations has 90 stuff classes and 82783 images\n",
    "The full list of classes can be obtained by calling coco.cats"
   ]
  },
  {
   "cell_type": "code",
   "execution_count": 21,
   "metadata": {},
   "outputs": [],
   "source": [
    "# Image segmentation by category/obj in gray scale/RGB\n",
    "def create_dataset1ch():\n",
    "    # paths\n",
    "    out_dir_cat='data/coco/ground_truth/cat/'\n",
    "    out_dir_obj='data/coco/ground_truth/obj/'\n",
    "    out_dir_rgb_cat='data/coco/ground_truth/rgb_cat/'\n",
    "    out_dir_rgb_obj='data/coco/ground_truth/rgb_obj/'\n",
    "    # Set between cat and obj image creation, categories has each object related with their pixels corresponding ID,\n",
    "    # obj are random coloured, making it easier for visualization\n",
    "    cat_save=True\n",
    "    # Set to true if you want showroom RGB images, useless for training data as\n",
    "    # it's does not contains pixels corresponding categories IDs \n",
    "    rgb_save=False\n",
    "    # Get all imageIDs and categories\n",
    "    allImgIds = coco.getImgIds()\n",
    "    allImgCat=coco.cats\n",
    "    # Iterate in all images notations to create segmentation the corresponding segmentation image \n",
    "    for IM in range(0,1):\n",
    "    #     Get all image IDs\n",
    "        imgIds=coco.getImgIds(imgIds = allImgIds)\n",
    "    #     Load corresponding image by it's ID\n",
    "        img = coco.loadImgs(imgIds)[IM]\n",
    "    #     Get annotations by it's image's ID\n",
    "        annIds = coco.getAnnIds(imgIds=img['id'], iscrowd=None)\n",
    "    #     Load annotations by it's corresponding IDs\n",
    "        anns = coco.loadAnns(annIds)\n",
    "    #     Create matrix with the same size as original image to store classes in both gray and RGB scales \n",
    "        seg_imageGray=np.zeros((img['height'],img['width'])).astype(np.uint8)\n",
    "        seg_imageRGB=np.zeros((img['height'],img['width'],3)).astype(np.uint8)\n",
    "    #     For each image annotation, extract their corresponding pixels objects\n",
    "    # each image can have multiple annotations\n",
    "        for i in range(len(anns)):\n",
    "    #         Get object mask\n",
    "            seg_image=coco.annToMask(anns[i])\n",
    "    #     Check for pixels in common and remove from image as solution to overlapping images\n",
    "            seg_image=(seg_image-(seg_image&seg_imageGray))\n",
    "    #     Handle the creation of RGB images, just for showroom \n",
    "            if rgb_save==True:\n",
    "    #         Create a matrix with the same size as image, but with 3 channels \n",
    "                imgRGB = np.zeros((img['height'],img['width'],3))\n",
    "    #     Get random values for color mask [0,1] and store objects pixels in the matrix\n",
    "                color_mask = np.random.random((1, 3)).tolist()[0]\n",
    "                imgRGB[:,:,0]=((seg_imageGray|seg_image)==1)*color_mask[0]\n",
    "                imgRGB[:,:,1]=((seg_imageGray|seg_image)==1)*color_mask[1]\n",
    "                imgRGB[:,:,2]=((seg_imageGray|seg_image)==1)*color_mask[2]\n",
    "    #             Add coloured object into the main RGB image\n",
    "                seg_imageRGB=seg_imageRGB+imgRGB\n",
    "    #     save images (categories/objects and RGB/gray)\n",
    "            if cat_save==True:\n",
    "                seg_imageGray=(seg_imageGray+((seg_imageGray|seg_image)==1)*(anns[i]['category_id']+50))\n",
    "            else:\n",
    "                seg_imageGray=(seg_imageGray+((seg_imageGray|seg_image)==1)*(50+anns[i]['category_id']+(110//len(anns))*i))\n",
    "        if cat_save==True:\n",
    "            imageio.imsave(out_dir_cat+img['file_name'], seg_imageGray.astype(np.uint8))\n",
    "            if rgb_save==True:\n",
    "                imageio.imsave(out_dir_rgb_cat+img['file_name'], Norm(seg_imageRGB,0,255).astype(np.uint8))\n",
    "        else:\n",
    "            imageio.imsave(out_dir_obj+img['file_name'], seg_imageGray.astype(np.uint8))\n",
    "            if rgb_save==True:\n",
    "                imageio.imsave(out_dir_rgb_obj+img['file_name'], Norm(seg_imageRGB,0,255).astype(np.uint8))"
   ]
  },
  {
   "cell_type": "markdown",
   "metadata": {},
   "source": [
    "## Dataset creation with n ground truth channels\n",
    "each category needs to have it's own channel, in order to archive that we will develop a new function based on the older one tha handles dataset creation (wrongly =/) with just one channel.  \n",
    "\n",
    "Steps:\n",
    "1. list every categorie available (80 categories, ranging from 1 to 90 IDs -_-)  \n",
    "2. create matrix with 90 channels\n",
    "3. on every image do:\n",
    "4. get object segmentation\n",
    "5. check it's category\n",
    "6. add it on the corresponding channel\n",
    "    * But what if we have more than one object in the same cattegory? We just need to use OR operator instead sum each object into the matrix.\n",
    "7. save matrix using np.save()\n",
    "    * if you want to see each channel, just use imageio.imsave() and don't forget to multiply it by 255 \n",
    "    \n",
    "Done that we should be able to train our network (hopefuly)\n",
    "\n",
    "## Todo:\n",
    "We need to optimize dataset storing because what we had described above takes to much space. Each numpy file takes around 20mb and we have ~80k images\n",
    "- [ ] Metadata saver\n",
    "    * save each channel in csv/json/txt containing:\n",
    "        * image size\n",
    "        * cat 0\n",
    "            * ground truth of all objects labeled with the corresponding cat and compressed in just one matrix\n",
    "        * cat N\n",
    "            * only categories that has pixels > 0 \n",
    "            * we will store the hole matrix for that cat\n",
    "- [ ] Metadata loader\n",
    "    * load metadata saved by metadata saver and create np.array(image size,91 channels)\n",
    "    * channel 0 should contain ground truth of all\n",
    "    * load cat N by doing array :, : , N = matrix N stored in metadata "
   ]
  },
  {
   "cell_type": "code",
   "execution_count": 18,
   "metadata": {},
   "outputs": [],
   "source": [
    "# Image segmentation by category/obj in gray scale/RGB\n",
    "def create_datasetNch():\n",
    "    # paths\n",
    "    out_dir_cat='data/coco/ground_truth/cat/'\n",
    "    out_dir_obj='data/coco/ground_truth/obj/'\n",
    "    out_dir_rgb_cat='data/coco/ground_truth/rgb_cat/'\n",
    "    out_dir_rgb_obj='data/coco/ground_truth/rgb_obj/'\n",
    "    # Set between cat and obj image creation, categories has each object related with their pixels corresponding ID,\n",
    "    # obj are random coloured, making it easier for visualization\n",
    "    cat_save=True\n",
    "    # Set to true if you want showroom RGB images, useless for training data as\n",
    "    # it's does not contains pixels corresponding categories IDs \n",
    "    rgb_save=False\n",
    "    # Get all imageIDs and categories\n",
    "    allImgIds = coco.getImgIds()\n",
    "    allImgCat=coco.cats\n",
    "    # Iterate in all images notations to create segmentation the corresponding segmentation image \n",
    "    for IM in range(0,20):\n",
    "    #     Get all image IDs\n",
    "        imgIds=coco.getImgIds(imgIds = allImgIds)\n",
    "    #     Load corresponding image by it's ID\n",
    "        img = coco.loadImgs(imgIds)[IM]\n",
    "    #     Get annotations by it's image's ID\n",
    "        annIds = coco.getAnnIds(imgIds=img['id'], iscrowd=None)\n",
    "    #     Load annotations by it's corresponding IDs\n",
    "        anns = coco.loadAnns(annIds)\n",
    "    #     Create matrix with the same size as original image to store classes in both gray and RGB scales\n",
    "        seg_imageNch=np.zeros((img['height'],img['width'],90)).astype(np.uint8)\n",
    "        seg_imageGray=np.zeros((img['height'],img['width'])).astype(np.uint8)\n",
    "        seg_imageRGB=np.zeros((img['height'],img['width'],3)).astype(np.uint8)\n",
    "    #     For each image annotation, extract their corresponding pixels objects\n",
    "    # each image can have multiple annotations\n",
    "        for i in range(len(anns)):\n",
    "    #         Get object mask\n",
    "            seg_image=coco.annToMask(anns[i])\n",
    "#             Add object to it's corresponding channel\n",
    "            seg_imageNch[:,:,anns[i]['category_id']-1]=seg_imageNch[:,:,anns[i]['category_id']-1]|seg_image\n",
    "    #     Check for pixels in common and remove from image as solution to overlapping images\n",
    "            seg_image=(seg_image-(seg_image&seg_imageGray))\n",
    "    #     Handle the creation of RGB images, just for showroom \n",
    "            if rgb_save==True:\n",
    "    #         Create a matrix with the same size as image, but with 3 channels \n",
    "                imgRGB = np.zeros((img['height'],img['width'],3))\n",
    "    #     Get random values for color mask [0,1] and store objects pixels in the matrix\n",
    "                color_mask = np.random.random((1, 3)).tolist()[0]\n",
    "                imgRGB[:,:,0]=((seg_imageGray|seg_image)==1)*color_mask[0]\n",
    "                imgRGB[:,:,1]=((seg_imageGray|seg_image)==1)*color_mask[1]\n",
    "                imgRGB[:,:,2]=((seg_imageGray|seg_image)==1)*color_mask[2]\n",
    "    #             Add coloured object into the main RGB image\n",
    "                seg_imageRGB=seg_imageRGB+imgRGB\n",
    "    #     save images (categories and RGB/gray)\n",
    "            seg_imageGray=(seg_imageGray+((seg_imageGray|seg_image)==1)*(anns[i]['category_id']+50))\n",
    "#         for ch in range(len(allImgCat)):\n",
    "#             if np.max(seg_imageNch[:,:,ch])>0:\n",
    "#                 imageio.imsave(out_dir_cat+img['file_name']+str(ch)+'.jpg', seg_imageNch[:,:,ch]*255)\n",
    "#         imageio.imsave(out_dir_cat+img['file_name'], seg_imageGray.astype(np.uint8))\n",
    "        np.save(out_dir_cat+img['file_name'],allow_pickle=False,seg_imageNch)\n",
    "        if rgb_save==True:\n",
    "            imageio.imsave(out_dir_rgb_cat+img['file_name'], Norm(seg_imageRGB,0,255).astype(np.uint8))        "
   ]
  },
  {
   "cell_type": "code",
   "execution_count": 20,
   "metadata": {},
   "outputs": [
    {
     "name": "stdout",
     "output_type": "stream",
     "text": [
      "80\n"
     ]
    },
    {
     "data": {
      "text/plain": [
       "<matplotlib.image.AxesImage at 0x7fb5e87c1668>"
      ]
     },
     "execution_count": 20,
     "metadata": {},
     "output_type": "execute_result"
    },
    {
     "data": {
      "image/png": "[encoded data removed]",
      "text/plain": [
       "<Figure size 432x288 with 1 Axes>"
      ]
     },
     "metadata": {
      "needs_background": "light"
     },
     "output_type": "display_data"
    }
   ],
   "source": [
    "allImgCat=coco.cats\n",
    "print(len(allImgCat))\n",
    "# print(allImgCat)\n",
    "create_datasetNch()\n",
    "dt=np.load('data/coco/ground_truth/cat/'+'COCO_train2014_000000262145.jpg.npy')\n",
    "plt.imshow(dt[:,:,0])"
   ]
  },
  {
   "cell_type": "markdown",
   "metadata": {},
   "source": [
    "## Interesting stuffs\n",
    "\n",
    "* SegNet: A Deep Convolutional Encoder-Decoder Architecture for Image Segmentation  \n",
    "    https://arxiv.org/pdf/1511.00561.pdf"
   ]
  }
 ],
 "metadata": {
  "kernelspec": {
   "display_name": "Python 3",
   "language": "python",
   "name": "python3"
  },
  "language_info": {
   "codemirror_mode": {
    "name": "ipython",
    "version": 3
   },
   "file_extension": ".py",
   "mimetype": "text/x-python",
   "name": "python",
   "nbconvert_exporter": "python",
   "pygments_lexer": "ipython3",
   "version": "3.7.0"
  }
 },
 "nbformat": 4,
 "nbformat_minor": 2
}
