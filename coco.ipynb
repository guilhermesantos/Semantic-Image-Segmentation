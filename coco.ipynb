{
 "cells": [
  {
   "cell_type": "code",
   "execution_count": 55,
   "metadata": {},
   "outputs": [],
   "source": [
    "from pycocotools.coco import COCO\n",
    "from pycocotools.mask import *\n",
    "import numpy as np\n",
    "import skimage.io as io\n",
    "import matplotlib.pyplot as plt\n",
    "import pylab\n",
    "import pickle\n",
    "import os\n",
    "import imageio\n",
    "import json\n",
    "from torch.utils.data import Dataset, DataLoader\n",
    "import torchvision.transforms as transforms\n",
    "import torch\n",
    "import glob"
   ]
  },
  {
   "cell_type": "markdown",
   "metadata": {},
   "source": [
    "## Setup\n",
    "In order to proceed with dataset creation, you should download COCO 2014 Train/Val annotations (241mb).  \n",
    "The instructions are for Ubuntu and require wget and unzip. It works on bash Windows as well.  \n",
    "wget --directory-prefix=downloads http://images.cocodataset.org/annotations/annotations_trainval2014.zip  \n",
    "mkdir -p dataset/annotations  \n",
    "unzip downloads/annotations_trainval2014.zip -d dataset/annotations/"
   ]
  },
  {
   "cell_type": "code",
   "execution_count": 4,
   "metadata": {},
   "outputs": [
    {
     "name": "stdout",
     "output_type": "stream",
     "text": [
      "loading annotations into memory...\n",
      "Done (t=49.00s)\n",
      "creating index...\n",
      "index created!\n"
     ]
    }
   ],
   "source": [
    "# initialize COCO api to handle instance annotations\n",
    "dataType='train2014'\n",
    "annFile='downloads/dataset/annotations/instances_{}.json'.format(dataType)\n",
    "coco=COCO(annFile)"
   ]
  },
  {
   "cell_type": "markdown",
   "metadata": {},
   "source": [
    "## Dataset creation\n",
    "COCO 2014 train annotations has 90 stuff classes and 82783 images\n",
    "The full list of classes can be obtained by calling coco.cats"
   ]
  },
  {
   "cell_type": "code",
   "execution_count": 21,
   "metadata": {},
   "outputs": [],
   "source": [
    "# Image segmentation by category/obj in gray scale/RGB\n",
    "def create_dataset1ch():\n",
    "    # paths\n",
    "    out_dir_cat='data/coco/ground_truth/cat/'\n",
    "    out_dir_obj='data/coco/ground_truth/obj/'\n",
    "    out_dir_rgb_cat='data/coco/ground_truth/rgb_cat/'\n",
    "    out_dir_rgb_obj='data/coco/ground_truth/rgb_obj/'\n",
    "    # Set between cat and obj image creation, categories has each object related with their pixels corresponding ID,\n",
    "    # obj are random coloured, making it easier for visualization\n",
    "    cat_save=True\n",
    "    # Set to true if you want showroom RGB images, useless for training data as\n",
    "    # it's does not contains pixels corresponding categories IDs \n",
    "    rgb_save=False\n",
    "    # Get all imageIDs and categories\n",
    "    allImgIds = coco.getImgIds()\n",
    "    allImgCat=coco.cats\n",
    "    # Iterate in all images notations to create segmentation the corresponding segmentation image \n",
    "    for IM in range(0,1):\n",
    "    #     Get all image IDs\n",
    "        imgIds=coco.getImgIds(imgIds = allImgIds)\n",
    "    #     Load corresponding image by it's ID\n",
    "        img = coco.loadImgs(imgIds)[IM]\n",
    "    #     Get annotations by it's image's ID\n",
    "        annIds = coco.getAnnIds(imgIds=img['id'], iscrowd=None)\n",
    "    #     Load annotations by it's corresponding IDs\n",
    "        anns = coco.loadAnns(annIds)\n",
    "    #     Create matrix with the same size as original image to store classes in both gray and RGB scales \n",
    "        seg_imageGray=np.zeros((img['height'],img['width'])).astype(np.uint8)\n",
    "        seg_imageRGB=np.zeros((img['height'],img['width'],3)).astype(np.uint8)\n",
    "    #     For each image annotation, extract their corresponding pixels objects\n",
    "    # each image can have multiple annotations\n",
    "        for i in range(len(anns)):\n",
    "    #         Get object mask\n",
    "            seg_image=coco.annToMask(anns[i])\n",
    "    #     Check for pixels in common and remove from image as solution to overlapping images\n",
    "            seg_image=(seg_image-(seg_image&seg_imageGray))\n",
    "    #     Handle the creation of RGB images, just for showroom \n",
    "            if rgb_save==True:\n",
    "    #         Create a matrix with the same size as image, but with 3 channels \n",
    "                imgRGB = np.zeros((img['height'],img['width'],3))\n",
    "    #     Get random values for color mask [0,1] and store objects pixels in the matrix\n",
    "                color_mask = np.random.random((1, 3)).tolist()[0]\n",
    "                imgRGB[:,:,0]=((seg_imageGray|seg_image)==1)*color_mask[0]\n",
    "                imgRGB[:,:,1]=((seg_imageGray|seg_image)==1)*color_mask[1]\n",
    "                imgRGB[:,:,2]=((seg_imageGray|seg_image)==1)*color_mask[2]\n",
    "    #             Add coloured object into the main RGB image\n",
    "                seg_imageRGB=seg_imageRGB+imgRGB\n",
    "    #     save images (categories/objects and RGB/gray)\n",
    "            if cat_save==True:\n",
    "                seg_imageGray=(seg_imageGray+((seg_imageGray|seg_image)==1)*(anns[i]['category_id']+50))\n",
    "            else:\n",
    "                seg_imageGray=(seg_imageGray+((seg_imageGray|seg_image)==1)*(50+anns[i]['category_id']+(110//len(anns))*i))\n",
    "        if cat_save==True:\n",
    "            imageio.imsave(out_dir_cat+img['file_name'], seg_imageGray.astype(np.uint8))\n",
    "            if rgb_save==True:\n",
    "                imageio.imsave(out_dir_rgb_cat+img['file_name'], Norm(seg_imageRGB,0,255).astype(np.uint8))\n",
    "        else:\n",
    "            imageio.imsave(out_dir_obj+img['file_name'], seg_imageGray.astype(np.uint8))\n",
    "            if rgb_save==True:\n",
    "                imageio.imsave(out_dir_rgb_obj+img['file_name'], Norm(seg_imageRGB,0,255).astype(np.uint8))"
   ]
  },
  {
   "cell_type": "markdown",
   "metadata": {},
   "source": [
    "## Dataset creation with n ground truth channels\n",
    "each category needs to have it's own channel, in order to archive that we will develop a new function based on the older one tha handles dataset creation (wrongly =/) with just one channel.  \n",
    "\n",
    "Steps:\n",
    "1. list every categorie available (80 categories, ranging from 1 to 90 IDs -_-)  \n",
    "2. create matrix with 90 channels\n",
    "3. on every image do:\n",
    "4. get object segmentation\n",
    "5. check it's category\n",
    "6. add it on the corresponding channel\n",
    "    * But what if we have more than one object in the same cattegory? We just need to use OR operator instead sum each object into the matrix.\n",
    "7. save matrix using np.save()\n",
    "    * if you want to see each channel, just use imageio.imsave() and don't forget to multiply it by 255 \n",
    "    \n",
    "Done that we should be able to train our network (hopefuly)\n",
    "\n",
    "## Todo:\n",
    "We need to optimize dataset storing because what we had described above takes to much space. Each numpy file takes around 20mb and we have ~80k images\n",
    "- [x] Metadata saver\n",
    "    * save each channel in csv/json/txt containing:\n",
    "        * image size\n",
    "        * cat 0\n",
    "            * ground truth of all objects labeled with the corresponding cat and compressed in just one matrix\n",
    "        * cat N\n",
    "            * only categories that has pixels > 0 \n",
    "            * we will store the hole matrix for that cat\n",
    "- [x] Metadata loader\n",
    "    * load metadata saved by metadata saver and create np.array(image size,91 channels)\n",
    "    * channel 0 should contain ground truth of all\n",
    "    * load cat N by doing array :, : , N = matrix N stored in metadata "
   ]
  },
  {
   "cell_type": "code",
   "execution_count": 5,
   "metadata": {},
   "outputs": [],
   "source": [
    "# Image segmentation by category/obj in gray scale/RGB\n",
    "def create_datasetNch():\n",
    "    # paths\n",
    "    out_dir_cat='data/coco/ground_truth/cat/'\n",
    "    out_dir_obj='data/coco/ground_truth/obj/'\n",
    "    out_dir_rgb_cat='data/coco/ground_truth/rgb_cat/'\n",
    "    out_dir_rgb_obj='data/coco/ground_truth/rgb_obj/'\n",
    "    # Set between cat and obj image creation, categories has each object related with their pixels corresponding ID,\n",
    "    # obj are random coloured, making it easier for visualization\n",
    "    cat_save=True\n",
    "    # Set to true if you want showroom RGB images, useless for training data as\n",
    "    # it's does not contains pixels corresponding categories IDs \n",
    "    rgb_save=False\n",
    "    # Get all imageIDs and categories\n",
    "    allImgIds = coco.getImgIds()\n",
    "    allImgCat=coco.cats\n",
    "    # Iterate in all images notations to create segmentation the corresponding segmentation image \n",
    "    for IM in range(0,1):\n",
    "    #     Get all image IDs\n",
    "        imgIds=coco.getImgIds(imgIds = allImgIds)\n",
    "    #     Load corresponding image by it's ID\n",
    "        img = coco.loadImgs(imgIds)[IM]\n",
    "    #     Get annotations by it's image's ID\n",
    "        annIds = coco.getAnnIds(imgIds=img['id'], iscrowd=None)\n",
    "    #     Load annotations by it's corresponding IDs\n",
    "        anns = coco.loadAnns(annIds)\n",
    "    #     Create matrix with the same size as original image to store classes in both gray and RGB scales\n",
    "        seg_imageNch=np.zeros((img['height'],img['width'],91)).astype(np.uint8)\n",
    "        seg_imageGray=np.zeros((img['height'],img['width'])).astype(np.uint8)\n",
    "        seg_imageRGB=np.zeros((img['height'],img['width'],3)).astype(np.uint8)\n",
    "    #     For each image annotation, extract their corresponding pixels objects\n",
    "    # each image can have multiple annotations\n",
    "        for i in range(len(anns)):\n",
    "    #         Get object mask\n",
    "            seg_image=coco.annToMask(anns[i])\n",
    "#             Add object to it's corresponding channel\n",
    "            seg_imageNch[:,:,anns[i]['category_id']]=seg_imageNch[:,:,anns[i]['category_id']]|seg_image\n",
    "    #     Check for pixels in common and remove from image as solution to overlapping images\n",
    "            seg_image=(seg_image-(seg_image&seg_imageGray))\n",
    "    #     Handle the creation of RGB images, just for showroom \n",
    "            if rgb_save==True:\n",
    "    #         Create a matrix with the same size as image, but with 3 channels \n",
    "                imgRGB = np.zeros((img['height'],img['width'],3))\n",
    "    #     Get random values for color mask [0,1] and store objects pixels in the matrix\n",
    "                color_mask = np.random.random((1, 3)).tolist()[0]\n",
    "                imgRGB[:,:,0]=((seg_imageGray|seg_image)==1)*color_mask[0]\n",
    "                imgRGB[:,:,1]=((seg_imageGray|seg_image)==1)*color_mask[1]\n",
    "                imgRGB[:,:,2]=((seg_imageGray|seg_image)==1)*color_mask[2]\n",
    "    #             Add coloured object into the main RGB image\n",
    "                seg_imageRGB=seg_imageRGB+imgRGB\n",
    "    #     save images (categories and RGB/gray)\n",
    "            seg_imageGray=(seg_imageGray+((seg_imageGray|seg_image)==1)*(anns[i]['category_id']+50))\n",
    "            seg_imageNch[:,:,0]=seg_imageGray.astype(np.uint8)\n",
    "#         for ch in range(len(allImgCat)):\n",
    "#             if np.max(seg_imageNch[:,:,ch])>0:\n",
    "#                 imageio.imsave(out_dir_cat+img['file_name']+str(ch)+'.jpg', seg_imageNch[:,:,ch]*255)\n",
    "        imageio.imsave(out_dir_cat+img['file_name'], seg_imageGray.astype(np.uint8))\n",
    "        np.save(out_dir_cat+img['file_name'],seg_imageNch,allow_pickle=False)\n",
    "        return seg_imageNch\n",
    "        if rgb_save==True:\n",
    "            imageio.imsave(out_dir_rgb_cat+img['file_name'], Norm(seg_imageRGB,0,255).astype(np.uint8))        "
   ]
  },
  {
   "cell_type": "markdown",
   "metadata": {},
   "source": [
    "## Metadata saver and loader\n",
    "\n",
    "\n",
    "1. createGroundTruth()  \n",
    "    * It create the image ground truth and store it in json file, this way we decreased almost 10x numpy size file\n",
    "    * shape contains np.shape()\n",
    "    * 0 is the ground truth of all category channels. \n",
    "    * N is the ground truth of each category which has any pixel > 0. N can varies from 1 to 90 \n",
    "2. saveGroundTruth()  \n",
    "    * it just save the image ground truth in json\n",
    "3. loadGroundTruth()  \n",
    "    * it load json file and return the corresponding np.array()"
   ]
  },
  {
   "cell_type": "code",
   "execution_count": 6,
   "metadata": {},
   "outputs": [],
   "source": [
    "def createGroundTruth(start,end):\n",
    "    out_dir_cat='data/coco/ground_truth/'\n",
    "    # Get all imageIDs and categories\n",
    "    allImgIds = coco.getImgIds()\n",
    "    allImgCat=coco.cats\n",
    "    #     Get all image IDs\n",
    "    imgIds=coco.getImgIds(imgIds = allImgIds)\n",
    "    for IM in range(start,end):\n",
    "    #     Load corresponding image by it's ID\n",
    "        img = coco.loadImgs(imgIds)[IM]\n",
    "        print(IM,img['id'])\n",
    "    #     Get annotations by it's image's ID\n",
    "        annIds = coco.getAnnIds(imgIds=img['id'], iscrowd=None)\n",
    "    #     Load annotations by it's corresponding IDs\n",
    "        anns = coco.loadAnns(annIds)\n",
    "    #     Create matrix with the same size as original image to store classes in both gray and RGB scales\n",
    "        seg_imageNch=np.zeros((img['height'],img['width'],91)).astype(np.uint8)\n",
    "        seg_imageGray=np.zeros((img['height'],img['width'])).astype(np.uint8)\n",
    "        for i in range(len(anns)):\n",
    "    #         Get object mask\n",
    "            seg_image=coco.annToMask(anns[i])\n",
    "#             Add object to it's corresponding channel\n",
    "            seg_imageNch[:,:,anns[i]['category_id']]=seg_imageNch[:,:,anns[i]['category_id']]|seg_image\n",
    "    #     Check for pixels in common and remove from image as solution to overlapping images\n",
    "            seg_image=(seg_image-(seg_image&seg_imageGray))\n",
    "    #     Add obj to ground truth in gray\n",
    "            seg_imageGray=(seg_imageGray+((seg_imageGray|seg_image)==1)*(anns[i]['category_id']))\n",
    "#         add ground truth of everything into channel 0\n",
    "        seg_imageNch[:,:,0]=seg_imageGray.astype(np.uint8)\n",
    "        saveGroundTruth(out_dir_cat+img['file_name'],seg_imageNch)\n",
    "\n",
    "def saveGroundTruth(name,gt):\n",
    "    data=dict()\n",
    "    width,weight,ch=gt.shape\n",
    "    data['shape']=gt.shape\n",
    "    data['0']= gt[:,:,0].tolist()\n",
    "    for i in range(1,ch):\n",
    "        if np.max(gt[:,:,i])>0:\n",
    "            data[str(i)]=gt[:,:,i].tolist()\n",
    "    with open(name+'.json', 'w') as out:  \n",
    "        json.dump(data,out)\n",
    "        out.close\n",
    "\n",
    "def loadGroundTruth(name):\n",
    "    out_dir_cat='data/coco/ground_truth/'\n",
    "    with open(out_dir_cat+name+'.json') as file:\n",
    "        j = json.load(file)\n",
    "        seg_imageNch=np.zeros(j['shape']).astype(np.uint8)\n",
    "        print(seg_imageNch.shape)\n",
    "        print(j['shape'])\n",
    "        keys=list(j.keys())\n",
    "        print(keys)\n",
    "        for i in keys[1:]:\n",
    "            seg_imageNch[:,:,int(i)]=j[i]\n",
    "        file.close()\n",
    "    return seg_imageNch"
   ]
  },
  {
   "cell_type": "code",
   "execution_count": 58,
   "metadata": {},
   "outputs": [
    {
     "name": "stdout",
     "output_type": "stream",
     "text": [
      "57870\n",
      "[57870, 384029, 222016, 520950, 69675]\n",
      "[102924, 118582, 290250, 290659, 290682, 290718, 290760, 290772, 290776, 1154173, 1594658, 1600168, 2128139, 2132468, 2143343, 2143738, 2190436, 423921, 1086559, 1577025, 1925582, 1926447, 1926600, 1926695, 1927036, 1928113, 1928987, 1929055, 2189534, 2189663, 2222000, 459512, 671180, 706026, 1124706, 1491871, 1492008, 1492710, 1521374, 1524774, 1865874, 1866767, 1869329, 1870788, 1871020, 1871344, 1871967, 1881923, 2095142, 2095779, 675057, 1128440, 1216611, 1499420, 1726664, 1874219, 1979799, 2106265]\n"
     ]
    }
   ],
   "source": [
    "allImgIds = coco.getImgIds()\n",
    "# createGroundTruth(0,1)\n",
    "print(allImgIds[0])\n",
    "img = coco.loadImgs(allImgIds)\n",
    "print([f['id'] for f in img[0:5]])\n",
    "annIds = coco.getAnnIds(imgIds=[f['id'] for f in img[0:5]], iscrowd=None)\n",
    "print(annIds)"
   ]
  },
  {
   "cell_type": "markdown",
   "metadata": {},
   "source": [
    "## CocoDataset class\n",
    "\n",
    "Instead of load ~5mb json file for each image ground truth, let's try working with a ~300mb unique json file from coco and build ground truth from it. We will have a huge decrease in ground truth size, but we are not sure about the performance itself as we are building it just in time of the train.   "
   ]
  },
  {
   "cell_type": "code",
   "execution_count": 61,
   "metadata": {},
   "outputs": [],
   "source": [
    "class CocoDataset(Dataset):\n",
    "    def __init__(self, image_dir, coco, transform):\n",
    "        self.image_dir = image_dir\n",
    "        self.coco = coco\n",
    "        self.imgs = coco.loadImgs(coco.getImgIds())\n",
    "        self.transform = transform\n",
    "\n",
    "    def __getitem__(self, i):\n",
    "        image = Image.open(self.image_dir + \"\\\\\" + self.imgs[i]['file_name'])\n",
    "        image = self.transform(image)\n",
    "        image = self.pad_image(image, 700, 700)\n",
    "\n",
    "        gt = self.load_ground_truth(i)\n",
    "        gt = self.transform(np.transpose(gt, (0, 1, 2)))\n",
    "        gt = self.pad_image(gt, 700, 700)\n",
    "\n",
    "        return image, gt[1:, :, :]\n",
    "\n",
    "    def __len__(self):\n",
    "        return len(self.imgs)\n",
    "\n",
    "    def load_ground_truth(self, i):\n",
    "        annIds = self.coco.getAnnIds(imgIds=self.imgs[i]['id'], iscrowd=None)\n",
    "        anns = self.coco.loadAnns(annIds)\n",
    "        seg_imageNch = np.zeros((self.imgs[i]['height'], self.imgs[i]['width'], 91)).astype(np.uint8)\n",
    "        seg_imageGray = np.zeros((self.imgs[i]['height'], self.imgs[i]['width'])).astype(np.uint8)\n",
    "        for i in range(len(anns)):\n",
    "            seg_image = self.coco.annToMask(anns[i])\n",
    "            seg_imageNch[:, :, anns[i]['category_id']] = seg_imageNch[:, :, anns[i]['category_id']] | seg_image\n",
    "            seg_image = (seg_image - (seg_image & seg_imageGray))\n",
    "            seg_imageGray = (seg_imageGray + ((seg_imageGray | seg_image) == 1) * (anns[i]['category_id']))\n",
    "        seg_imageNch[:, :, 0] = seg_imageGray.astype(np.uint8)\n",
    "        return seg_imageNch\n",
    "\n",
    "    def pad_image(self, source, desired_height, desired_width):\n",
    "        padded_image = (-1) * torch.ones(source.shape[0], desired_height, desired_width)\n",
    "        padded_image[:, :source.size()[1], :source.size()[2]] = source\n",
    "\n",
    "        return padded_image\n",
    "\n",
    "    def collate(self, batch):\n",
    "        print('collating')\n",
    "        data = [item[0] for item in batch]\n",
    "        target = [item[1] for item in batch]\n",
    "        print('collating successful')\n",
    "        return data, target"
   ]
  },
  {
   "cell_type": "code",
   "execution_count": 60,
   "metadata": {},
   "outputs": [],
   "source": [
    "transform = transforms.Compose([transforms.ToTensor(), ])\n",
    "coco_dataset = CocoDataset(\"data/coco/images\",coco, transform)\n",
    "for i in range(10):\n",
    "    coco_dataset.__getitem__(i)\n"
   ]
  },
  {
   "cell_type": "code",
   "execution_count": 153,
   "metadata": {},
   "outputs": [
    {
     "name": "stdout",
     "output_type": "stream",
     "text": [
      "80\n",
      "262145\n",
      "262146\n",
      "524291\n",
      "524297\n",
      "9\n",
      "262159\n",
      "524311\n",
      "25\n",
      "524314\n",
      "262171\n",
      "(427, 640, 91)\n",
      "[427, 640, 91]\n",
      "['shape', '0', '1', '28', '57']\n"
     ]
    },
    {
     "data": {
      "text/plain": [
       "<matplotlib.image.AxesImage at 0x7fb92a9ff940>"
      ]
     },
     "execution_count": 153,
     "metadata": {},
     "output_type": "execute_result"
    },
    {
     "data": {
      "image/png": "[encoded data removed]",
      "text/plain": [
       "<Figure size 432x288 with 1 Axes>"
      ]
     },
     "metadata": {
      "needs_background": "light"
     },
     "output_type": "display_data"
    }
   ],
   "source": [
    "allImgCat=coco.cats\n",
    "print(len(allImgCat))\n",
    "# print(allImgCat)\n",
    "# segImg=create_datasetNch()\n",
    "# print(segImg.shape)\n",
    "createGroundTruth(0,10)\n",
    "# saveGroundTruth('test',segImg)\n",
    "dt2=loadGroundTruth('COCO_train2014_000000262145.jpg')\n",
    "dt=np.load('data/coco/ground_truth/cat/'+'COCO_train2014_000000262145.jpg.npy')\n",
    "# plt.imshow(segImg[:,:,0])\n",
    "# plt.imshow(dt[:,:,1])\n",
    "plt.imshow(dt2[:,:,0])"
   ]
  },
  {
   "cell_type": "markdown",
   "metadata": {},
   "source": [
    "## Interesting stuffs\n",
    "\n",
    "* SegNet: A Deep Convolutional Encoder-Decoder Architecture for Image Segmentation  \n",
    "    https://arxiv.org/pdf/1511.00561.pdf"
   ]
  }
 ],
 "metadata": {
  "kernelspec": {
   "display_name": "Python 3",
   "language": "python",
   "name": "python3"
  },
  "language_info": {
   "codemirror_mode": {
    "name": "ipython",
    "version": 3
   },
   "file_extension": ".py",
   "mimetype": "text/x-python",
   "name": "python",
   "nbconvert_exporter": "python",
   "pygments_lexer": "ipython3",
   "version": "3.7.2"
  }
 },
 "nbformat": 4,
 "nbformat_minor": 2
}
